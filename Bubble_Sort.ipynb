{
 "cells": [
  {
   "cell_type": "markdown",
   "metadata": {},
   "source": [
    "# **Bubble Sort Algorithm**\n"
   ]
  },
  {
   "cell_type": "markdown",
   "metadata": {},
   "source": [
    "Bubble sort, sometimes referred to as **_sinking sort_**, is a simple sorting algorithm that repeatedly steps through the list to be sorted, compares each pair of adjacent items and swaps them if they are in the wrong order. The pass through the list is repeated until no swaps are needed, which indicates that the list is sorted.\n",
    "\n",
    "### Properties\n",
    "\n",
    "- Worst case perf ormance O($ n^{2} $)\n",
    "- Best case performance O($n$)\n",
    "- Average case performance O($ n^{2} $)\n",
    "\n",
    "### View the algorithm in action\n",
    "\n",
    "#### Step-by-step example\n",
    "\n",
    "Take an array of numbers \" 5 1 4 2 8\", and sort the array from lowest number to greatest number using bubble sort.\n",
    "\n",
    "In each step, elements written in bold are being compared.\n",
    "\n",
    "Three passes will be required.\n",
    "\n",
    "**_First Pass_**\n",
    "\n",
    "( 5 1 4 2 8 ) → ( **1** **5** 4 2 8 ),\n",
    "\n",
    "Here, algorithm compares the first two elements, and swaps since **5 > 1**.\n",
    "\n",
    "( 1 5 4 2 8 ) → ( 1 **4** **5** 2 8 ), Swap since **5 > 4**\n",
    "\n",
    "( 1 4 5 2 8 ) → ( 1 4 **2** **5** 8 ), Swap since **5 > 2**\n",
    "\n",
    "( 1 4 2 5 8 ) → ( 1 4 2 5 8 ),\n",
    "\n",
    "Now, since these elements are already in order (**8 > 5**), algorithm does not swap them.\n",
    "\n",
    "**_Second Pass_**\n",
    "( 1 4 2 5 8 ) → ( 1 4 2 5 8 )\n",
    "\n",
    "( 1 4 2 5 8 ) → ( 1 **2** **4** 5 8 ), Swap since **4 > 2**\n",
    "\n",
    "( 1 2 4 5 8 ) → ( 1 2 4 5 8 )\n",
    "\n",
    "( 1 2 4 5 8 ) → ( 1 2 4 5 8 )\n",
    "\n",
    "Now, the array is already sorted, but the algorithm does not know if it is completed.\n",
    "\n",
    "The algorithm needs one whole pass without any swap to know it is sorted.\n",
    "\n",
    "**_Third Pass_**\n",
    "( 1 2 4 5 8 ) → ( 1 2 4 5 8 )\n",
    "\n",
    "( 1 2 4 5 8 ) → ( 1 2 4 5 8 )\n",
    "\n",
    "( 1 2 4 5 8 ) → ( 1 2 4 5 8 )\n",
    "\n",
    "( 1 2 4 5 8 ) → ( 1 2 4 5 8 )\n"
   ]
  },
  {
   "cell_type": "markdown",
   "metadata": {},
   "source": [
    "The easy method\n"
   ]
  },
  {
   "cell_type": "code",
   "execution_count": 10,
   "metadata": {},
   "outputs": [],
   "source": [
    "def bubble_sort(arr):\n",
    "    n = len(arr)\n",
    "    for i in range(n):\n",
    "        for j in range(0, n-i-1):\n",
    "            if arr[j] > arr[j+1]:\n",
    "                arr[j], arr[j+1] = arr[j+1], arr[j]\n",
    "    return arr"
   ]
  },
  {
   "cell_type": "code",
   "execution_count": 11,
   "metadata": {},
   "outputs": [],
   "source": [
    "arr = [64, 34, 25, 12, 22, 11, 90]"
   ]
  },
  {
   "cell_type": "code",
   "execution_count": 12,
   "metadata": {},
   "outputs": [
    {
     "data": {
      "text/plain": [
       "[11, 12, 22, 25, 34, 64, 90]"
      ]
     },
     "execution_count": 12,
     "metadata": {},
     "output_type": "execute_result"
    }
   ],
   "source": [
    "bubble_sort(arr)"
   ]
  },
  {
   "cell_type": "markdown",
   "metadata": {},
   "source": [
    "Medium level\n"
   ]
  },
  {
   "cell_type": "code",
   "execution_count": 13,
   "metadata": {},
   "outputs": [],
   "source": [
    "def Bubble_Sort(Collections):\n",
    "    for i in range(len(Collections)-1, 0, -1):\n",
    "        for j in range(i):\n",
    "            if Collections[j] > Collections[j+1]:\n",
    "                Collections[j], Collections[j +\n",
    "                                            1] = Collections[j+1], Collections[j]\n",
    "    return Collections"
   ]
  },
  {
   "cell_type": "code",
   "execution_count": 14,
   "metadata": {},
   "outputs": [
    {
     "name": "stdout",
     "output_type": "stream",
     "text": [
      "[1, 2, 3, 4, 5, 6, 8]\n"
     ]
    }
   ],
   "source": [
    "arr = [5, 2, 8, 3, 1, 6, 4]\n",
    "Collections = bubble_sort(arr)\n",
    "print(Collections)"
   ]
  },
  {
   "cell_type": "markdown",
   "metadata": {},
   "source": [
    "**Difficult level**\n"
   ]
  },
  {
   "cell_type": "code",
   "execution_count": 15,
   "metadata": {},
   "outputs": [],
   "source": [
    "def bubble_sort(arr):\n",
    "    n = len(arr)\n",
    "    swapped = True\n",
    "    last_swap_index = n - 1\n",
    "    while swapped:\n",
    "        swapped = False\n",
    "        for i in range(n - 1):\n",
    "            if arr[i] > arr[i + 1]:\n",
    "                arr[i], arr[i + 1] = arr[i + 1], arr[i]\n",
    "                swapped = True\n",
    "                last_swap_index = i\n",
    "        n -= 1\n",
    "\n",
    "    # Check if the array is already sorted\n",
    "    if swapped:\n",
    "        # If the last swap index is 0, the array is sorted\n",
    "        if last_swap_index == 0:\n",
    "            return\n",
    "\n",
    "    # Check for adjacent duplicates\n",
    "    for i in range(1, n):\n",
    "        if arr[i] == arr[i - 1]:\n",
    "            # Swap adjacent elements to maintain stability\n",
    "            arr[i], arr[i - 1] = arr[i - 1], arr[i]\n",
    "\n",
    "    return arr"
   ]
  },
  {
   "cell_type": "code",
   "execution_count": 16,
   "metadata": {},
   "outputs": [
    {
     "name": "stdout",
     "output_type": "stream",
     "text": [
      "[1, 2, 3, 4, 5, 6, 8]\n"
     ]
    }
   ],
   "source": [
    "arr = [5, 2, 8, 3, 1, 6, 4]\n",
    "arr = bubble_sort(arr)\n",
    "print(arr)  # [1, 2, 3, 4, 5, 6, 8]"
   ]
  }
 ],
 "metadata": {
  "kernelspec": {
   "display_name": "Python 3",
   "language": "python",
   "name": "python3"
  },
  "language_info": {
   "codemirror_mode": {
    "name": "ipython",
    "version": 3
   },
   "file_extension": ".py",
   "mimetype": "text/x-python",
   "name": "python",
   "nbconvert_exporter": "python",
   "pygments_lexer": "ipython3",
   "version": "3.13.1"
  }
 },
 "nbformat": 4,
 "nbformat_minor": 2
}
